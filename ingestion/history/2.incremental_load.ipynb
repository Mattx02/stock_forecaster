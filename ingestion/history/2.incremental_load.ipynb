{
 "cells": [
  {
   "cell_type": "code",
   "execution_count": 0,
   "metadata": {
    "application/vnd.databricks.v1+cell": {
     "cellMetadata": {},
     "inputWidgets": {},
     "nuid": "92d832ee-0938-42e7-ab9d-29d51b2fa384",
     "showTitle": false,
     "tableResultSettingsMap": {},
     "title": ""
    }
   },
   "outputs": [],
   "source": [
    "# stock_name\n",
    "# \n",
    "\n",
    "# -> init table zaciagniecie danych od do ->\n",
    "# -> increamental load -> zobaczyc jakie mamy najnowsze dane dla tej akcji np 2025-02-06   -> ticker od do i jaka akacja -> od 2025-02-06 do dzien dzisiejszy akcja \n"
   ]
  },
  {
   "cell_type": "code",
   "execution_count": 0,
   "metadata": {
    "application/vnd.databricks.v1+cell": {
     "cellMetadata": {
      "byteLimit": 2048000,
      "rowLimit": 10000
     },
     "inputWidgets": {},
     "nuid": "8ed43a93-dfec-46ef-a18c-41065a5717a8",
     "showTitle": false,
     "tableResultSettingsMap": {},
     "title": ""
    }
   },
   "outputs": [],
   "source": [
    "#todo read input pramiters\n",
    "# stock_name = 'NVDA'\n",
    "# start_date = '2010-01-01'\n",
    "# end_date = '2025-02-06'\n",
    "\n",
    "dbutils.widgets.text(\"stock_name\", 'def')\n",
    "stock_name = dbutils.widgets.get(\"stock_name\")\n",
    "print(stock_name)\n",
    "dbutils.widgets.dropdown(\"stocks\", \"NVDA\", [\"NVDA\", \"AAPL\", \"AMZN\", \"GOOG\", \"FB\", \"TSLA\", \"MSFT\", \"INTC\", \"CSCO\", \"QCOM\"])"
   ]
  },
  {
   "cell_type": "code",
   "execution_count": 0,
   "metadata": {
    "application/vnd.databricks.v1+cell": {
     "cellMetadata": {
      "byteLimit": 2048000,
      "implicitDf": true,
      "rowLimit": 10000
     },
     "inputWidgets": {},
     "nuid": "cf25656a-5f13-43fe-a946-009eb711eec3",
     "showTitle": false,
     "tableResultSettingsMap": {},
     "title": ""
    }
   },
   "outputs": [],
   "source": [
    "%sql\n",
    "select max(date_time) from machine_learning.stock_forecaster.bronze_stock_data where stocks_name = 'NVDA'"
   ]
  },
  {
   "cell_type": "code",
   "execution_count": 0,
   "metadata": {
    "application/vnd.databricks.v1+cell": {
     "cellMetadata": {
      "byteLimit": 2048000,
      "rowLimit": 10000
     },
     "inputWidgets": {},
     "nuid": "eb48000a-132b-4f5b-9424-c757a8d808e2",
     "showTitle": false,
     "tableResultSettingsMap": {},
     "title": ""
    }
   },
   "outputs": [],
   "source": [
    "from datetime import timedelta, datetime\n",
    "df = spark.sql(\"select max(date_time) from machine_learning.stock_forecaster.bronze_stock_data where stocks_name = 'NVDA'\")\n",
    "display(df)\n",
    "start_date = df.collect()[0][0]\n",
    "print(type(start_date))\n",
    "start_time_plus_day = (start_date + timedelta(days=1)).strftime(\"%Y-%m-%d\")\n",
    "print(start_time_plus_day)\n"
   ]
  },
  {
   "cell_type": "code",
   "execution_count": 0,
   "metadata": {
    "application/vnd.databricks.v1+cell": {
     "cellMetadata": {
      "byteLimit": 2048000,
      "rowLimit": 10000
     },
     "inputWidgets": {},
     "nuid": "604f57f2-ebcd-439e-9fb0-2c6da4592525",
     "showTitle": false,
     "tableResultSettingsMap": {},
     "title": ""
    }
   },
   "outputs": [],
   "source": [
    "import yfinance as yf\n",
    "print(stock_name, start_date.strftime(\"%Y-%m-%d\"), datetime.now().strftime(\"%Y-%m-%d\"))\n",
    "\n",
    "new_data = yf.download(stock_name, start=start_time_plus_day, end=datetime.now().strftime(\"%Y-%m-%d\"))\n",
    "\n",
    "print(new_data.reset_index().head())"
   ]
  },
  {
   "cell_type": "code",
   "execution_count": 0,
   "metadata": {
    "application/vnd.databricks.v1+cell": {
     "cellMetadata": {
      "byteLimit": 2048000,
      "rowLimit": 10000
     },
     "inputWidgets": {},
     "nuid": "43df49b3-9ebe-46a1-94eb-e60a8bf652f9",
     "showTitle": false,
     "tableResultSettingsMap": {},
     "title": ""
    }
   },
   "outputs": [],
   "source": [
    "new_data = new_data.reset_index()\n",
    "new_columns =  ['Date', 'Close', 'High', 'Low', 'Open', 'Volume']\n",
    "new_data.columns = new_columns\n",
    "df = spark.createDataFrame(new_data)\n",
    "# new columns that is date from Data (YYYY-MM-DD), ingestion_timestamp, ingestion_date, and stocks_name that is costant NVDA\n",
    "import pyspark.sql.functions as f\n",
    "df = df.withColumn('date_time', f.to_date(f.col('Date'))).withColumn('ingestion_timestamp', f.current_timestamp()).withColumn('ingestion_date', f.current_date()).withColumn('stocks_name', f.lit(stock_name))\n"
   ]
  },
  {
   "cell_type": "code",
   "execution_count": 0,
   "metadata": {
    "application/vnd.databricks.v1+cell": {
     "cellMetadata": {
      "byteLimit": 2048000,
      "rowLimit": 10000
     },
     "inputWidgets": {},
     "nuid": "59ed90c6-32ac-4539-ab8b-247acab760d4",
     "showTitle": false,
     "tableResultSettingsMap": {},
     "title": ""
    }
   },
   "outputs": [],
   "source": [
    "df.write.format(\"delta\").mode(\"append\").saveAsTable(\"machine_learning.stock_forecaster.bronze_stock_data\")"
   ]
  },
  {
   "cell_type": "code",
   "execution_count": 0,
   "metadata": {
    "application/vnd.databricks.v1+cell": {
     "cellMetadata": {
      "byteLimit": 2048000,
      "rowLimit": 10000
     },
     "inputWidgets": {},
     "nuid": "0497556a-3b23-45b5-b212-10bd7b02df8e",
     "showTitle": false,
     "tableResultSettingsMap": {},
     "title": ""
    }
   },
   "outputs": [],
   "source": [
    "df.write.format(\"delta\").mode(\"append\").saveAsTable(\"machine_learning.stock_forecaster.bronze_stock_data\") # adding again to create duplicates"
   ]
  },
  {
   "cell_type": "code",
   "execution_count": 0,
   "metadata": {
    "application/vnd.databricks.v1+cell": {
     "cellMetadata": {
      "byteLimit": 2048000,
      "rowLimit": 10000
     },
     "inputWidgets": {},
     "nuid": "e96471c1-127a-42b7-9e2f-d262090eb107",
     "showTitle": false,
     "tableResultSettingsMap": {},
     "title": ""
    }
   },
   "outputs": [],
   "source": [
    "df_read = spark.read.format(\"delta\").table(\"machine_learning.stock_forecaster.bronze_stock_data\")\n",
    "display(df_read)"
   ]
  },
  {
   "cell_type": "code",
   "execution_count": 0,
   "metadata": {
    "application/vnd.databricks.v1+cell": {
     "cellMetadata": {
      "byteLimit": 2048000,
      "implicitDf": true,
      "rowLimit": 10000
     },
     "inputWidgets": {},
     "nuid": "ce4597ed-fbd7-44b8-92c0-4dd6c519be22",
     "showTitle": false,
     "tableResultSettingsMap": {},
     "title": ""
    }
   },
   "outputs": [],
   "source": [
    "%sql\n",
    "select * from machine_learning.stock_forecaster.bronze_stock_data version as of 2"
   ]
  },
  {
   "cell_type": "code",
   "execution_count": 0,
   "metadata": {
    "application/vnd.databricks.v1+cell": {
     "cellMetadata": {},
     "inputWidgets": {},
     "nuid": "586eb1d4-a67c-4037-b8e2-36fd03a7b627",
     "showTitle": false,
     "tableResultSettingsMap": {},
     "title": ""
    }
   },
   "outputs": [],
   "source": []
  },
  {
   "cell_type": "code",
   "execution_count": 0,
   "metadata": {
    "application/vnd.databricks.v1+cell": {
     "cellMetadata": {
      "byteLimit": 2048000,
      "implicitDf": true,
      "rowLimit": 10000
     },
     "inputWidgets": {},
     "nuid": "29a7fa0a-a7b1-4d05-ae5b-d2ac8ff8701f",
     "showTitle": false,
     "tableResultSettingsMap": {},
     "title": ""
    }
   },
   "outputs": [],
   "source": [
    "%sql\n",
    "\n",
    "RESTORE table machine_learning.stock_forecaster.bronze_stock_data version as of 2"
   ]
  },
  {
   "cell_type": "code",
   "execution_count": 0,
   "metadata": {
    "application/vnd.databricks.v1+cell": {
     "cellMetadata": {},
     "inputWidgets": {},
     "nuid": "8866c0a2-7767-4392-ab9d-b83ed50cae41",
     "showTitle": false,
     "tableResultSettingsMap": {},
     "title": ""
    }
   },
   "outputs": [],
   "source": []
  }
 ],
 "metadata": {
  "application/vnd.databricks.v1+notebook": {
   "computePreferences": null,
   "dashboards": [],
   "environmentMetadata": {
    "base_environment": "",
    "environment_version": "2"
   },
   "language": "python",
   "notebookMetadata": {
    "mostRecentlyExecutedCommandWithImplicitDF": {
     "commandId": 7107529009698390,
     "dataframes": [
      "_sqldf"
     ]
    },
    "pythonIndentUnit": 4
   },
   "notebookName": "2.incremental_load",
   "widgets": {
    "start_date": {
     "currentValue": "",
     "nuid": "abd516ad-856d-49f9-a1b7-c4b4be922bff",
     "typedWidgetInfo": {
      "autoCreated": false,
      "defaultValue": "2025-02-06",
      "label": null,
      "name": "start_date",
      "options": {
       "widgetDisplayType": "Text",
       "validationRegex": null
      },
      "parameterDataType": "String"
     },
     "widgetInfo": {
      "widgetType": "text",
      "defaultValue": "2025-02-06",
      "label": null,
      "name": "start_date",
      "options": {
       "widgetType": "text",
       "autoCreated": null,
       "validationRegex": null
      }
     }
    },
    "stock_name": {
     "currentValue": "NVDA",
     "nuid": "3695e26c-185b-49bf-945b-583b848d9d4d",
     "typedWidgetInfo": {
      "autoCreated": false,
      "defaultValue": "def",
      "label": null,
      "name": "stock_name",
      "options": {
       "widgetDisplayType": "Text",
       "validationRegex": null
      },
      "parameterDataType": "String"
     },
     "widgetInfo": {
      "widgetType": "text",
      "defaultValue": "def",
      "label": null,
      "name": "stock_name",
      "options": {
       "widgetType": "text",
       "autoCreated": null,
       "validationRegex": null
      }
     }
    },
    "stocks": {
     "currentValue": "INTC",
     "nuid": "b6ed3b74-e365-4cf6-917b-fe2a6d0b87cf",
     "typedWidgetInfo": {
      "autoCreated": false,
      "defaultValue": "NVDA",
      "label": null,
      "name": "stocks",
      "options": {
       "widgetDisplayType": "Dropdown",
       "choices": [
        "NVDA",
        "AAPL",
        "AMZN",
        "GOOG",
        "FB",
        "TSLA",
        "MSFT",
        "INTC",
        "CSCO",
        "QCOM"
       ],
       "fixedDomain": true,
       "multiselect": false
      },
      "parameterDataType": "String"
     },
     "widgetInfo": {
      "widgetType": "dropdown",
      "defaultValue": "NVDA",
      "label": null,
      "name": "stocks",
      "options": {
       "widgetType": "dropdown",
       "autoCreated": null,
       "choices": [
        "NVDA",
        "AAPL",
        "AMZN",
        "GOOG",
        "FB",
        "TSLA",
        "MSFT",
        "INTC",
        "CSCO",
        "QCOM"
       ]
      }
     }
    }
   }
  },
  "language_info": {
   "name": "python"
  }
 },
 "nbformat": 4,
 "nbformat_minor": 0
}
